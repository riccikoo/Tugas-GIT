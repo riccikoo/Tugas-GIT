{
 "cells": [
  {
   "cell_type": "code",
   "execution_count": 2,
   "metadata": {},
   "outputs": [],
   "source": [
    "data_panen = {\n",
    "    'lokasi1':{\n",
    "        'nama_lokasi':'Kebun A',\n",
    "        'hasil_panen':{\n",
    "            'padi':1200,\n",
    "            'jagung':800,\n",
    "            'kedelai':500\n",
    "        }    \n",
    "    },\n",
    "    'lokasi2':{\n",
    "        'nama_lokasi':'Kebun B',\n",
    "        'hasil_panen':{\n",
    "            'padi':1500,\n",
    "            'jagung':900,\n",
    "            'kedelai':450\n",
    "        } \n",
    "    },\n",
    "    'lokasi3':{\n",
    "        'nama_lokasi':'Kebun C',\n",
    "        'hasil_panen':{\n",
    "            'padi':1100,\n",
    "            'jagung':750,\n",
    "            'kedelai':600\n",
    "        } \n",
    "    },\n",
    "    'lokasi4':{\n",
    "        'nama_lokasi':'Kebun D',\n",
    "        'hasil_panen':{\n",
    "            'padi':1300,\n",
    "            'jagung':850,\n",
    "            'kedelai':550\n",
    "        } \n",
    "    },\n",
    "    'lokasi5':{\n",
    "        'nama_lokasi':'Kebun E',\n",
    "        'hasil_panen':{\n",
    "            'padi':1400,\n",
    "            'jagung':950,\n",
    "            'kedelai':480\n",
    "        } \n",
    "    }\n",
    "}"
   ]
  },
  {
   "cell_type": "code",
   "execution_count": 2,
   "metadata": {},
   "outputs": [
    {
     "name": "stdout",
     "output_type": "stream",
     "text": [
      "=====================\n",
      "Lokasi      : lokasi1\n",
      "Nama Lokasi : Kebun A\n",
      "====Hasil Panen====\n",
      "padi: 1200\n",
      "jagung: 800\n",
      "kedelai: 500\n",
      "=====================\n",
      "Lokasi      : lokasi2\n",
      "Nama Lokasi : Kebun B\n",
      "====Hasil Panen====\n",
      "padi: 1500\n",
      "jagung: 900\n",
      "kedelai: 450\n",
      "=====================\n",
      "Lokasi      : lokasi3\n",
      "Nama Lokasi : Kebun C\n",
      "====Hasil Panen====\n",
      "padi: 1100\n",
      "jagung: 750\n",
      "kedelai: 600\n",
      "=====================\n",
      "Lokasi      : lokasi4\n",
      "Nama Lokasi : Kebun D\n",
      "====Hasil Panen====\n",
      "padi: 1300\n",
      "jagung: 850\n",
      "kedelai: 550\n",
      "=====================\n",
      "Lokasi      : lokasi5\n",
      "Nama Lokasi : Kebun E\n",
      "====Hasil Panen====\n",
      "padi: 1400\n",
      "jagung: 950\n",
      "kedelai: 480\n"
     ]
    }
   ],
   "source": [
    "for x,y in data_panen.items():\n",
    "    print(\"=====================\")\n",
    "    print(f\"Lokasi      : {x}\")\n",
    "    print(f\"Nama Lokasi : {y['nama_lokasi']}\")\n",
    "    print(\"====Hasil Panen====\")\n",
    "    for a,b in y['hasil_panen'].items():\n",
    "        print(f\"{a}: {b}\")"
   ]
  },
  {
   "cell_type": "code",
   "execution_count": 3,
   "metadata": {},
   "outputs": [
    {
     "name": "stdout",
     "output_type": "stream",
     "text": [
      "=====================\n",
      "Lokasi      : lokasi2\n",
      "Nama Lokasi : Kebun B\n",
      "====Hasil Panen====\n",
      "jagung: 900\n"
     ]
    }
   ],
   "source": [
    "for x,y in data_panen.items():\n",
    "    if x=='lokasi2':\n",
    "        print(\"=====================\")\n",
    "        print(f\"Lokasi      : {x}\")\n",
    "        print(f\"Nama Lokasi : {y['nama_lokasi']}\")\n",
    "        print(\"====Hasil Panen====\")\n",
    "        for a,b in y['hasil_panen'].items():\n",
    "            if a=='jagung':\n",
    "                print(f\"{a}: {b}\")"
   ]
  },
  {
   "cell_type": "code",
   "execution_count": 5,
   "metadata": {},
   "outputs": [
    {
     "name": "stdout",
     "output_type": "stream",
     "text": [
      "=====================\n",
      "Lokasi      : lokasi3\n",
      "Nama Lokasi : Kebun C\n"
     ]
    }
   ],
   "source": [
    "for x,y in data_panen.items():\n",
    "    if x=='lokasi3':\n",
    "        print(\"=====================\")\n",
    "        print(f\"Lokasi      : {x}\")\n",
    "        print(f\"Nama Lokasi : {y['nama_lokasi']}\")"
   ]
  },
  {
   "cell_type": "code",
   "execution_count": 10,
   "metadata": {},
   "outputs": [
    {
     "name": "stdout",
     "output_type": "stream",
     "text": [
      "Lokasi : Kebun A\n",
      "Padi : 1200\n",
      "Kedelai : 500\n",
      "Lokasi : Kebun B\n",
      "Padi : 1500\n",
      "Kedelai : 450\n",
      "Lokasi : Kebun C\n",
      "Padi : 1100\n",
      "Kedelai : 600\n",
      "Lokasi : Kebun D\n",
      "Padi : 1300\n",
      "Kedelai : 550\n",
      "Lokasi : Kebun E\n",
      "Padi : 1400\n",
      "Kedelai : 480\n"
     ]
    }
   ],
   "source": [
    "p=[]\n",
    "k=[]\n",
    "lok=[]\n",
    "\n",
    "for x,y in data_panen.items():\n",
    "    lok.append(y['nama_lokasi'])\n",
    "    for a,b in y['hasil_panen'].items():\n",
    "        if a=='kedelai':\n",
    "            k.append(b)\n",
    "        elif a=='padi':\n",
    "            p.append(b)\n",
    "for i in range(len(p)):\n",
    "        print(f\"Lokasi : {lok[i]}\")\n",
    "        print(f\"Padi : {p[i]}\")\n",
    "        print(f\"Kedelai : {k[i]}\")"
   ]
  },
  {
   "cell_type": "code",
   "execution_count": 3,
   "metadata": {},
   "outputs": [
    {
     "name": "stdout",
     "output_type": "stream",
     "text": [
      "Lokasi : Kebun A\n",
      "Padi : 1200\n",
      "Jarum : 800\n",
      "Lokasi Kebun A dalam keadaan baik\n",
      "Lokasi : Kebun B\n",
      "Padi : 1500\n",
      "Jarum : 900\n",
      "Lokasi Kebun B butuh perhatian khusus\n",
      "Lokasi : Kebun C\n",
      "Padi : 1100\n",
      "Jarum : 750\n",
      "Lokasi Kebun C dalam keadaan baik\n",
      "Lokasi : Kebun D\n",
      "Padi : 1300\n",
      "Jarum : 850\n",
      "Lokasi Kebun D butuh perhatian khusus\n",
      "Lokasi : Kebun E\n",
      "Padi : 1400\n",
      "Jarum : 950\n",
      "Lokasi Kebun E butuh perhatian khusus\n"
     ]
    }
   ],
   "source": [
    "p=[]\n",
    "j=[]\n",
    "lok=[]\n",
    "\n",
    "for x,y in data_panen.items():\n",
    "    lok.append(y['nama_lokasi'])\n",
    "    for a,b in y['hasil_panen'].items():\n",
    "        if a=='jagung':\n",
    "            j.append(b)\n",
    "        elif a=='padi':\n",
    "            p.append(b)\n",
    "for i in range(len(p)):\n",
    "    if p[i]>1300 or j[i]>800:\n",
    "        print(f\"Lokasi : {lok[i]}\")\n",
    "        print(f\"Padi : {p[i]}\")\n",
    "        print(f\"Jarum : {j[i]}\")\n",
    "        print(f\"Lokasi {lok[i]} butuh perhatian khusus\")\n",
    "    else:\n",
    "        print(f\"Lokasi : {lok[i]}\")\n",
    "        print(f\"Padi : {p[i]}\")\n",
    "        print(f\"Jarum : {j[i]}\")\n",
    "        print(f\"Lokasi {lok[i]} dalam keadaan baik\")"
   ]
  },
  {
   "cell_type": "code",
   "execution_count": null,
   "metadata": {},
   "outputs": [],
   "source": [
    "##ini perubahan baru"
   ]
  }
 ],
 "metadata": {
  "kernelspec": {
   "display_name": "Python 3",
   "language": "python",
   "name": "python3"
  },
  "language_info": {
   "codemirror_mode": {
    "name": "ipython",
    "version": 3
   },
   "file_extension": ".py",
   "mimetype": "text/x-python",
   "name": "python",
   "nbconvert_exporter": "python",
   "pygments_lexer": "ipython3",
   "version": "3.12.6"
  }
 },
 "nbformat": 4,
 "nbformat_minor": 2
}
